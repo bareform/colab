{
 "cells": [
  {
   "cell_type": "markdown",
   "id": "c3e08cf1",
   "metadata": {},
   "source": [
    "# Setup\n",
    "- Follow the setup instructions to train a machine learning model in a Google Colab environment"
   ]
  },
  {
   "cell_type": "code",
   "execution_count": null,
   "id": "5e14fea4",
   "metadata": {
    "vscode": {
     "languageId": "plaintext"
    }
   },
   "outputs": [],
   "source": [
    "from google.colab import drive\n",
    "drive.mount(\"/content/drive\")"
   ]
  },
  {
   "cell_type": "code",
   "execution_count": null,
   "id": "0724411e",
   "metadata": {
    "vscode": {
     "languageId": "plaintext"
    }
   },
   "outputs": [],
   "source": [
    "PROJECT_NAME = ..."
   ]
  },
  {
   "cell_type": "code",
   "execution_count": null,
   "id": "60c56a1b",
   "metadata": {
    "vscode": {
     "languageId": "plaintext"
    }
   },
   "outputs": [],
   "source": [
    "import os\n",
    "os.chdir(f\"drive/MyDrive/{PROJECT_NAME}\")\n",
    "!ls"
   ]
  }
 ],
 "metadata": {
  "language_info": {
   "name": "python"
  }
 },
 "nbformat": 4,
 "nbformat_minor": 5
}
